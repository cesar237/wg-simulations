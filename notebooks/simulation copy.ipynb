{
 "cells": [
  {
   "cell_type": "code",
   "execution_count": 10,
   "metadata": {},
   "outputs": [],
   "source": [
    "import os\n",
    "import numpy as np\n",
    "import random\n",
    "import scipy as sp\n",
    "from matplotlib import pyplot as plt\n",
    "import seaborn as sns\n",
    "import itertools\n",
    "import copy\n",
    "import pandas as pd"
   ]
  },
  {
   "cell_type": "code",
   "execution_count": 2,
   "metadata": {},
   "outputs": [],
   "source": [
    "def generate_sched(stages, transition_proba, length=15):\n",
    "    \"\"\"_summary_ To generate a trace\n",
    "    \"\"\"\n",
    "    res = []\n",
    "    prev = random.choice(stages)\n",
    "    res.append(prev)\n",
    "    \n",
    "    for _ in range(length-1):\n",
    "        prev = random.choices(stages, transition_proba[prev], k=1)[0]\n",
    "        res.append(prev)\n",
    "    return res\n",
    "\n",
    "def gen_job(stages): \n",
    "    return {i: None for i in stages}\n",
    "\n",
    "def count_done(works, stages):\n",
    "    res = 0\n",
    "    latencies = []\n",
    "    first_stage = stages[0]\n",
    "    last_stage = stages[-1]\n",
    "    while works[res][last_stage] is not None:\n",
    "        w = works[res]\n",
    "        latencies.append(w[last_stage] - w[first_stage] + 1)\n",
    "        res += 1\n",
    "    return res, latencies"
   ]
  },
  {
   "cell_type": "code",
   "execution_count": 67,
   "metadata": {},
   "outputs": [],
   "source": [
    "def run_simulation_(stages, transitions, total_time, n_cores):\n",
    "    trace = [generate_sched(stages=stages, transition_proba=transitions, length=total_time) for _ in range(n_cores)]\n",
    "    lasts = [0 for _ in stages]\n",
    "    todo = [gen_job(stages) for _ in range(total_time * n_cores // 2)]\n",
    "    for job in todo:\n",
    "        job['last_update'] = -1\n",
    "\n",
    "    for timestamp, workers in enumerate(zip(*trace)):\n",
    "        workers = list(workers)\n",
    "        workers.sort()\n",
    "        for worker in workers:\n",
    "            if worker == stages[0]:\n",
    "                if todo[lasts[worker]][worker] is None:\n",
    "                    todo[lasts[worker]][worker] = timestamp\n",
    "                    todo[lasts[worker]]['last_update'] = timestamp\n",
    "                    lasts[worker] += 1\n",
    "                else:\n",
    "                    lasts[worker] += 1\n",
    "                    todo[lasts[worker]][worker] = timestamp\n",
    "                    todo[lasts[worker]]['last_update'] = timestamp\n",
    "            else:\n",
    "                if todo[lasts[worker]][worker-1] is None or todo[lasts[worker]]['last_update'] == timestamp:\n",
    "                    continue\n",
    "                else:\n",
    "                    if todo[lasts[worker]][worker] is None:\n",
    "                        todo[lasts[worker]][worker] = timestamp\n",
    "                        todo[lasts[worker]]['last_update'] = timestamp\n",
    "                        lasts[worker] += 1\n",
    "                    else:\n",
    "                        lasts[worker] += 1\n",
    "                        todo[lasts[worker]][worker] = timestamp\n",
    "                        todo[lasts[worker]]['last_update'] = timestamp\n",
    "    total_work, latencies = count_done(todo, stages)\n",
    "\n",
    "    throughput = total_work / total_time\n",
    "    tail_latency = np.percentile(latencies, 99)\n",
    "    mean_latency = np.mean(latencies)\n",
    "    median_latency = np.median(latencies)\n",
    "\n",
    "    return throughput, median_latency, mean_latency, tail_latency\n",
    "\n",
    "def run_simulation(stages, transitions, total_time, n_cores, runs=1):\n",
    "    names = ['throughput', 'median_latency', 'mean_latency', 'tail_latency']\n",
    "    data = [run_simulation_(stages, transitions, total_time, n_cores) for _ in range(runs)]\n",
    "    return pd.DataFrame(data=data, columns=names)"
   ]
  },
  {
   "cell_type": "code",
   "execution_count": null,
   "metadata": {},
   "outputs": [],
   "source": [
    "def rand(x, y, n):\n",
    "    if x == y:\n",
    "        return 0\n",
    "    else:\n",
    "        return 1/(n-1)\n",
    "\n",
    "def ordered(x, y, n, weight=1):\n",
    "    if x == y:\n",
    "        return 0\n",
    "    m = y - x\n",
    "    if m < 0:\n",
    "        m += n\n",
    "    if m == 1:\n",
    "        return weight\n",
    "    else:\n",
    "        return (1-weight)/(n-2)\n",
    "\n",
    "def generate_order_transition(weight, stages):\n",
    "    n_stages = len(stages)\n",
    "    res = [ [0 for _ in stages ] for _ in stages ]\n",
    "    \n",
    "    for x, y in itertools.product(stages, stages):\n",
    "        res[x][y] = ordered(x, y, n_stages, weight=weight)\n",
    "    return res"
   ]
  },
  {
   "cell_type": "code",
   "execution_count": 69,
   "metadata": {
    "notebookRunGroups": {
     "groupValue": "1"
    }
   },
   "outputs": [],
   "source": [
    "n_stages = 4\n",
    "stages = [i for i in range(n_stages)]\n",
    "n_cores = 32\n",
    "total_time = 1000\n",
    "proba = [ [0 for _ in stages] for _ in stages ]\n",
    "random_transitions = [\n",
    "    [0, .5, .5],\n",
    "    [.5, 0, .5],\n",
    "    [.5, .5, 0]\n",
    "]\n",
    "ordered_transitions = [\n",
    "    [0, 1, 0],\n",
    "    [0, 0, 1],\n",
    "    [1, 0, 0],\n",
    "]\n",
    "semi_ordered_transitions = [\n",
    "    [0, .99, .01],\n",
    "    [.01, 0, .99],\n",
    "    [.99, .01, 0]\n",
    "]\n",
    "\n",
    "rand_weights = [.50, .75, .90, .99, 1]"
   ]
  },
  {
   "cell_type": "code",
   "execution_count": 70,
   "metadata": {},
   "outputs": [],
   "source": [
    "random_transitions = copy.deepcopy(proba)\n",
    "order_transition = {i: generate_order_transition(i, stages) for i in rand_weights}\n",
    "\n",
    "for x, y in itertools.product(stages, stages):\n",
    "    random_transitions[x][y] = rand(x, y, n_stages)"
   ]
  },
  {
   "cell_type": "code",
   "execution_count": 71,
   "metadata": {},
   "outputs": [],
   "source": [
    "def order_transition(i):\n",
    "    return generate_order_transition(i, stages)"
   ]
  },
  {
   "cell_type": "code",
   "execution_count": 72,
   "metadata": {},
   "outputs": [
    {
     "name": "stdout",
     "output_type": "stream",
     "text": [
      "Optimal throughput: 8.0\n",
      "Optimal latency: 4\n"
     ]
    }
   ],
   "source": [
    "print(\"Optimal throughput:\", n_cores/n_stages)\n",
    "print(\"Optimal latency:\", n_stages)"
   ]
  },
  {
   "cell_type": "code",
   "execution_count": 73,
   "metadata": {},
   "outputs": [
    {
     "data": {
      "text/plain": [
       "throughput         7.824000\n",
       "median_latency    17.000000\n",
       "mean_latency      16.421812\n",
       "tail_latency      26.000000\n",
       "dtype: float64"
      ]
     },
     "execution_count": 73,
     "metadata": {},
     "output_type": "execute_result"
    }
   ],
   "source": [
    "df_semi_ordered = run_simulation(stages, random_transitions, total_time, n_cores, runs=1000)\n",
    "df_semi_ordered.median()"
   ]
  },
  {
   "cell_type": "code",
   "execution_count": 74,
   "metadata": {},
   "outputs": [
    {
     "data": {
      "text/plain": [
       "throughput        7.976\n",
       "median_latency    4.000\n",
       "mean_latency      4.000\n",
       "tail_latency      4.000\n",
       "dtype: float64"
      ]
     },
     "execution_count": 74,
     "metadata": {},
     "output_type": "execute_result"
    }
   ],
   "source": [
    "df_random = run_simulation(stages, order_transition(1), total_time, n_cores, runs=1000)\n",
    "df_random.median()"
   ]
  },
  {
   "cell_type": "code",
   "execution_count": 75,
   "metadata": {},
   "outputs": [
    {
     "data": {
      "text/plain": [
       "throughput         7.832000\n",
       "median_latency    16.000000\n",
       "mean_latency      15.865836\n",
       "tail_latency      25.000000\n",
       "dtype: float64"
      ]
     },
     "execution_count": 75,
     "metadata": {},
     "output_type": "execute_result"
    }
   ],
   "source": [
    "df_random = run_simulation(stages, order_transition(.5), total_time, n_cores, runs=1000)\n",
    "df_random.median()"
   ]
  },
  {
   "cell_type": "code",
   "execution_count": 76,
   "metadata": {},
   "outputs": [
    {
     "data": {
      "text/plain": [
       "throughput         7.906000\n",
       "median_latency    10.000000\n",
       "mean_latency       9.697151\n",
       "tail_latency      14.000000\n",
       "dtype: float64"
      ]
     },
     "execution_count": 76,
     "metadata": {},
     "output_type": "execute_result"
    }
   ],
   "source": [
    "df_random = run_simulation(stages, order_transition(.9), total_time, n_cores, runs=1000)\n",
    "df_random.median()"
   ]
  },
  {
   "cell_type": "code",
   "execution_count": 77,
   "metadata": {},
   "outputs": [
    {
     "data": {
      "text/plain": [
       "throughput        7.954000\n",
       "median_latency    6.000000\n",
       "mean_latency      5.678755\n",
       "tail_latency      8.000000\n",
       "dtype: float64"
      ]
     },
     "execution_count": 77,
     "metadata": {},
     "output_type": "execute_result"
    }
   ],
   "source": [
    "df_random = run_simulation(stages, order_transition(.99), total_time, n_cores, runs=1000)\n",
    "df_random.median()"
   ]
  },
  {
   "cell_type": "code",
   "execution_count": 78,
   "metadata": {},
   "outputs": [
    {
     "data": {
      "text/plain": [
       "throughput        7.970000\n",
       "median_latency    4.000000\n",
       "mean_latency      4.455207\n",
       "tail_latency      5.500000\n",
       "dtype: float64"
      ]
     },
     "execution_count": 78,
     "metadata": {},
     "output_type": "execute_result"
    }
   ],
   "source": [
    "df_random = run_simulation(stages, order_transition(.999), total_time, n_cores, runs=1000)\n",
    "df_random.median()"
   ]
  },
  {
   "cell_type": "code",
   "execution_count": 79,
   "metadata": {},
   "outputs": [
    {
     "data": {
      "text/plain": [
       "throughput         7.822000\n",
       "median_latency    16.000000\n",
       "mean_latency      16.357977\n",
       "tail_latency      26.000000\n",
       "dtype: float64"
      ]
     },
     "execution_count": 79,
     "metadata": {},
     "output_type": "execute_result"
    }
   ],
   "source": [
    "df_random = run_simulation(stages, order_transition(.3), total_time, n_cores, runs=1000)\n",
    "df_random.median()"
   ]
  },
  {
   "cell_type": "code",
   "execution_count": 80,
   "metadata": {},
   "outputs": [
    {
     "data": {
      "text/plain": [
       "throughput         7.823000\n",
       "median_latency    17.000000\n",
       "mean_latency      16.837681\n",
       "tail_latency      26.000000\n",
       "dtype: float64"
      ]
     },
     "execution_count": 80,
     "metadata": {},
     "output_type": "execute_result"
    }
   ],
   "source": [
    "df_random = run_simulation(stages, order_transition(.2), total_time, n_cores, runs=1000)\n",
    "df_random.median()"
   ]
  },
  {
   "cell_type": "code",
   "execution_count": 81,
   "metadata": {},
   "outputs": [
    {
     "data": {
      "text/plain": [
       "throughput         7.819000\n",
       "median_latency    17.000000\n",
       "mean_latency      16.867546\n",
       "tail_latency      26.000000\n",
       "dtype: float64"
      ]
     },
     "execution_count": 81,
     "metadata": {},
     "output_type": "execute_result"
    }
   ],
   "source": [
    "df_random = run_simulation(stages, order_transition(.1), total_time, n_cores, runs=1000)\n",
    "df_random.median()"
   ]
  },
  {
   "cell_type": "code",
   "execution_count": null,
   "metadata": {},
   "outputs": [],
   "source": []
  }
 ],
 "metadata": {
  "kernelspec": {
   "display_name": "Python 3",
   "language": "python",
   "name": "python3"
  },
  "language_info": {
   "codemirror_mode": {
    "name": "ipython",
    "version": 3
   },
   "file_extension": ".py",
   "mimetype": "text/x-python",
   "name": "python",
   "nbconvert_exporter": "python",
   "pygments_lexer": "ipython3",
   "version": "3.11.6"
  }
 },
 "nbformat": 4,
 "nbformat_minor": 2
}
