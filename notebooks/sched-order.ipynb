{
 "cells": [
  {
   "cell_type": "code",
   "execution_count": 1,
   "metadata": {},
   "outputs": [],
   "source": [
    "import os\n",
    "import numpy as np\n",
    "import random\n",
    "import scipy as sp\n",
    "from matplotlib import pyplot as plt\n",
    "import seaborn as sns\n",
    "import itertools\n",
    "import copy\n",
    "import pandas as pd"
   ]
  },
  {
   "cell_type": "code",
   "execution_count": 2,
   "metadata": {},
   "outputs": [],
   "source": [
    "def new_stage(id=None, completion_time=100, finishing_time=None):\n",
    "    # completion = completion_time + random.randint(completion_time)\n",
    "    \n",
    "    return {\n",
    "        'id': id,\n",
    "        'completion_time': completion_time,\n",
    "        'arrival_time': finishing_time - completion_time,\n",
    "        'finishing_time': finishing_time\n",
    "    }"
   ]
  },
  {
   "cell_type": "code",
   "execution_count": null,
   "metadata": {},
   "outputs": [],
   "source": [
    "def generate_sched(stages, transition_proba, length=15):\n",
    "    \"\"\"_summary_ To generate a trace\n",
    "    \"\"\"\n",
    "    res = []\n",
    "    prev = random.choice(stages)\n",
    "    res.append(prev)\n",
    "    \n",
    "    for _ in range(length-1):\n",
    "        prev = random.choices(stages, transition_proba[prev], k=1)[0]\n",
    "        res.append(prev)\n",
    "    return res\n",
    "\n",
    "def gen_job(stages):\n",
    "    return {i: None for i in stages}\n",
    "\n",
    "def run_simulation_(stages, stages_completion, premature_stop_latency, transitions, total_func_calls, n_cores):\n",
    "    trace = [generate_sched(stages=stages, transition_proba=transitions, length=total_func_calls) for _ in range(n_cores)]\n",
    "    lasts = [0 for _ in stages]\n",
    "    todo = [gen_job(stages) for _ in range(total_func_calls * n_cores // 2)]\n",
    "\n",
    "    last_stage_cpu_timestamp = [0 for _ in trace]\n",
    "\n",
    "    for workers in zip(*trace):\n",
    "        workers = list(workers)\n",
    "        workers.sort()\n",
    "\n",
    "        for cpu, worker in enumerate(workers):\n",
    "            timestamp = last_stage_cpu_timestamp[cpu] + stages_completion[worker]\n",
    "            stage = new_stage(id=worker, completion_time=stages_completion[worker], finishing_time=timestamp)\n",
    "            last_stage_cpu_timestamp[cpu] = timestamp\n",
    "#             print(stage, last_stage_cpu_timestamp)\n",
    "\n",
    "            if worker == stages[0]:\n",
    "            # First function marks start of working on next job\n",
    "                if todo[lasts[worker]][worker] is None:\n",
    "                    todo[lasts[worker]][worker] = stage\n",
    "                    lasts[worker] += 1\n",
    "                else:\n",
    "                    lasts[worker] += 1\n",
    "                    todo[lasts[worker]][worker] = stage\n",
    "            else:\n",
    "                # If last function of job is not finished yet, then skip.\n",
    "                last_stage = todo[lasts[worker]][worker-1]\n",
    "                if last_stage is None or last_stage['finishing_time'] < stage['arrival_time']:\n",
    "                    stage['completion_time'] = premature_stop_latency\n",
    "                    new_timestamp = premature_stop_latency + stage['arrival_time']\n",
    "                    stage['finishing_time'] = new_timestamp\n",
    "                    last_stage_cpu_timestamp[cpu] = new_timestamp\n",
    "                    continue\n",
    "                else:\n",
    "                    if todo[lasts[worker]][worker] is None:\n",
    "                        todo[lasts[worker]][worker] = stage\n",
    "                        lasts[worker] += 1\n",
    "                    else:\n",
    "                        lasts[worker] += 1\n",
    "                        todo[lasts[worker]][worker] = stage\n",
    "\n",
    "    return todo, last_stage_cpu_timestamp\n",
    "\n",
    "def compute_metrics(todo, last_timestamps, n_stages):\n",
    "    i = 0\n",
    "    done_jobs = 0\n",
    "    latencies = []\n",
    "\n",
    "    def is_completed(job):\n",
    "        i = 0\n",
    "        while i < n_stages:\n",
    "            if job[i] is None:\n",
    "                return False\n",
    "            i += 1\n",
    "        return True\n",
    "    \n",
    "    def compute_latency(job):\n",
    "        return job[n_stages-1]['finishing_time'] - job[0]['arrival_time']\n",
    "    \n",
    "    job = todo[i]\n",
    "    while is_completed(job):\n",
    "        done_jobs += 1\n",
    "        latencies.append(compute_latency(job))\n",
    "        i += 1\n",
    "        job = todo[i]\n",
    "\n",
    "    total_time = max(last_timestamps)\n",
    "\n",
    "    throughput = done_jobs / total_time\n",
    "    tail_latency = np.percentile(latencies, 99)\n",
    "    mean_latency = np.mean(latencies)\n",
    "    median_latency = np.median(latencies)\n",
    "\n",
    "    return done_jobs, total_time, median_latency, mean_latency, tail_latency"
   ]
  },
  {
   "cell_type": "code",
   "execution_count": 11,
   "metadata": {},
   "outputs": [],
   "source": [
    "def run_simulation(stages, stages_completion, premature_stop_latency, transitions, total_func_calls, n_cores, runs=1):\n",
    "    names = ['total_work', 'duration', 'median_latency', 'mean_latency', 'tail_latency']\n",
    "    todos = [run_simulation_(stages, stages_completion, premature_stop_latency,  transitions, total_func_calls, n_cores) for _ in range(runs)]\n",
    "    n_stages = len(stages)\n",
    "    data = [compute_metrics(todo, last_times, n_stages) for todo, last_times in todos]\n",
    "    return pd.DataFrame(data=data, columns=names)"
   ]
  },
  {
   "cell_type": "code",
   "execution_count": 12,
   "metadata": {},
   "outputs": [],
   "source": [
    "def rand(x, y, n):\n",
    "    if x == y:\n",
    "        return 0\n",
    "    else:\n",
    "        return 1/(n-1)\n",
    "\n",
    "def ordered(x, y, n, weight=1):\n",
    "    if x == y:\n",
    "        return 0\n",
    "    m = y - x\n",
    "    if m < 0:\n",
    "        m += n\n",
    "    if m == 1:\n",
    "        return weight\n",
    "    else:\n",
    "        return (1-weight)/(n-2)\n",
    "\n",
    "def generate_order_transition(weight, stages):\n",
    "    n_stages = len(stages)\n",
    "    res = [ [0 for _ in stages ] for _ in stages ]\n",
    "    \n",
    "    for x, y in itertools.product(stages, stages):\n",
    "        res[x][y] = ordered(x, y, n_stages, weight=weight)\n",
    "    return res"
   ]
  },
  {
   "cell_type": "code",
   "execution_count": 19,
   "metadata": {},
   "outputs": [],
   "source": [
    "n_stages = 4\n",
    "stages_completion = [10, 30, 20, 10]\n",
    "premature_stop_latency = 1\n",
    "stages = [i for i in range(n_stages)]\n",
    "n_cores = 1\n",
    "total_func_calls = 10000\n",
    "proba = [ [0 for _ in stages] for _ in stages ]\n",
    "random_transitions = [\n",
    "    [0, .5, .5],\n",
    "    [.5, 0, .5],\n",
    "    [.5, .5, 0]\n",
    "]\n",
    "ordered_transitions = [\n",
    "    [0, 1, 0],\n",
    "    [0, 0, 1],\n",
    "    [1, 0, 0],\n",
    "]\n",
    "semi_ordered_transitions = [\n",
    "    [0, .99, .01],\n",
    "    [.01, 0, .99],\n",
    "    [.99, .01, 0]\n",
    "]\n",
    "\n",
    "rand_weights = [.50, .75, .90, .99, 1]\n",
    "\n",
    "random_transitions = copy.deepcopy(proba)\n",
    "order_transition = {i: generate_order_transition(i, stages) for i in rand_weights}\n",
    "\n",
    "for x, y in itertools.product(stages, stages):\n",
    "    random_transitions[x][y] = rand(x, y, n_stages)\n",
    "\n",
    "def order_transition(i):\n",
    "    return generate_order_transition(i, stages)\n",
    "\n",
    "# print(\"Optimal throughput:\", n_cores/n_stages)\n",
    "# print(\"Optimal latency:\", n_stages)\n",
    "\n",
    "\n",
    "# df_random = run_simulation(stages, order_transition(.5), total_time, n_cores, runs=1000)\n",
    "# df_random.median()\n",
    "\n",
    "# df_random = run_simulation(stages, order_transition(.9), total_time, n_cores, runs=1000)\n",
    "# df_random.median()\n"
   ]
  },
  {
   "cell_type": "code",
   "execution_count": 20,
   "metadata": {},
   "outputs": [
    {
     "name": "stdout",
     "output_type": "stream",
     "text": [
      "Optimal:\n"
     ]
    },
    {
     "data": {
      "text/plain": [
       "total_work          2499.0\n",
       "duration          174991.0\n",
       "median_latency        70.0\n",
       "mean_latency          70.0\n",
       "tail_latency          70.0\n",
       "dtype: float64"
      ]
     },
     "execution_count": 20,
     "metadata": {},
     "output_type": "execute_result"
    }
   ],
   "source": [
    "print(\"Optimal:\")\n",
    "df_random = run_simulation(stages, stages_completion, premature_stop_latency, order_transition(1), total_func_calls, n_cores, runs=15)\n",
    "df_random.median()"
   ]
  },
  {
   "cell_type": "code",
   "execution_count": 21,
   "metadata": {},
   "outputs": [],
   "source": [
    "# print(\"Semi-ordered:\")\n",
    "# df_semi_ordered = run_simulation(stages, stages_completion, premature_stop_latency, random_transitions, total_func_calls, n_cores, runs=15)\n",
    "# df_semi_ordered.median()"
   ]
  },
  {
   "cell_type": "code",
   "execution_count": 24,
   "metadata": {},
   "outputs": [
    {
     "data": {
      "text/plain": [
       "(4, 32719, 70.0, 70.0, 70.0)"
      ]
     },
     "execution_count": 24,
     "metadata": {},
     "output_type": "execute_result"
    }
   ],
   "source": [
    "todo, finishing = run_simulation_(stages, stages_completion, premature_stop_latency, order_transition(.99), total_func_calls, n_cores)\n",
    "compute_metrics(todo, finishing, n_stages)"
   ]
  },
  {
   "cell_type": "code",
   "execution_count": null,
   "metadata": {},
   "outputs": [],
   "source": []
  }
 ],
 "metadata": {
  "kernelspec": {
   "display_name": "Python 3",
   "language": "python",
   "name": "python3"
  },
  "language_info": {
   "codemirror_mode": {
    "name": "ipython",
    "version": 3
   },
   "file_extension": ".py",
   "mimetype": "text/x-python",
   "name": "python",
   "nbconvert_exporter": "python",
   "pygments_lexer": "ipython3",
   "version": "3.11.6"
  }
 },
 "nbformat": 4,
 "nbformat_minor": 2
}
